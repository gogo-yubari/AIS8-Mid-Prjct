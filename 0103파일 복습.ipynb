{
 "cells": [
  {
   "cell_type": "code",
   "execution_count": 2,
   "id": "542fdcdd",
   "metadata": {},
   "outputs": [],
   "source": [
    "import pandas as pd"
   ]
  },
  {
   "cell_type": "code",
   "execution_count": 5,
   "id": "7fa44059",
   "metadata": {},
   "outputs": [],
   "source": [
    "url = \"https://finance.naver.com/item/news.naver?code=005930\""
   ]
  },
  {
   "cell_type": "code",
   "execution_count": 6,
   "id": "2d591f42",
   "metadata": {},
   "outputs": [],
   "source": [
    "temp_table = pd.read_html(url, encoding=\"cp949\")"
   ]
  },
  {
   "cell_type": "code",
   "execution_count": 7,
   "id": "ef56e234",
   "metadata": {},
   "outputs": [
    {
     "data": {
      "text/html": [
       "<div>\n",
       "<style scoped>\n",
       "    .dataframe tbody tr th:only-of-type {\n",
       "        vertical-align: middle;\n",
       "    }\n",
       "\n",
       "    .dataframe tbody tr th {\n",
       "        vertical-align: top;\n",
       "    }\n",
       "\n",
       "    .dataframe thead th {\n",
       "        text-align: right;\n",
       "    }\n",
       "</style>\n",
       "<table border=\"1\" class=\"dataframe\">\n",
       "  <thead>\n",
       "    <tr style=\"text-align: right;\">\n",
       "      <th></th>\n",
       "      <th>업체명</th>\n",
       "      <th>거래량</th>\n",
       "      <th>전일비</th>\n",
       "    </tr>\n",
       "  </thead>\n",
       "  <tbody>\n",
       "    <tr>\n",
       "      <th>0</th>\n",
       "      <td>삼성전자</td>\n",
       "      <td>60800.0</td>\n",
       "      <td>상향  200</td>\n",
       "    </tr>\n",
       "    <tr>\n",
       "      <th>1</th>\n",
       "      <td>현대차</td>\n",
       "      <td>178500.0</td>\n",
       "      <td>상향  2,200</td>\n",
       "    </tr>\n",
       "    <tr>\n",
       "      <th>2</th>\n",
       "      <td>카카오</td>\n",
       "      <td>61200.0</td>\n",
       "      <td>하향  1,200</td>\n",
       "    </tr>\n",
       "    <tr>\n",
       "      <th>3</th>\n",
       "      <td>NAVER</td>\n",
       "      <td>206000.0</td>\n",
       "      <td>하향  2,500</td>\n",
       "    </tr>\n",
       "    <tr>\n",
       "      <th>4</th>\n",
       "      <td>SK하이닉스</td>\n",
       "      <td>88100.0</td>\n",
       "      <td>하향  1,300</td>\n",
       "    </tr>\n",
       "    <tr>\n",
       "      <th>5</th>\n",
       "      <td>NaN</td>\n",
       "      <td>NaN</td>\n",
       "      <td>NaN</td>\n",
       "    </tr>\n",
       "    <tr>\n",
       "      <th>6</th>\n",
       "      <td>카카오뱅크</td>\n",
       "      <td>26050.0</td>\n",
       "      <td>하향  600</td>\n",
       "    </tr>\n",
       "    <tr>\n",
       "      <th>7</th>\n",
       "      <td>삼성SDI</td>\n",
       "      <td>710000.0</td>\n",
       "      <td>상향  14,000</td>\n",
       "    </tr>\n",
       "    <tr>\n",
       "      <th>8</th>\n",
       "      <td>삼성전자우</td>\n",
       "      <td>53900.0</td>\n",
       "      <td>상향  500</td>\n",
       "    </tr>\n",
       "    <tr>\n",
       "      <th>9</th>\n",
       "      <td>LG화학</td>\n",
       "      <td>678000.0</td>\n",
       "      <td>하향  2,000</td>\n",
       "    </tr>\n",
       "    <tr>\n",
       "      <th>10</th>\n",
       "      <td>강원랜드</td>\n",
       "      <td>19710.0</td>\n",
       "      <td>하향  490</td>\n",
       "    </tr>\n",
       "  </tbody>\n",
       "</table>\n",
       "</div>"
      ],
      "text/plain": [
       "       업체명       거래량         전일비\n",
       "0     삼성전자   60800.0     상향  200\n",
       "1      현대차  178500.0   상향  2,200\n",
       "2      카카오   61200.0   하향  1,200\n",
       "3    NAVER  206000.0   하향  2,500\n",
       "4   SK하이닉스   88100.0   하향  1,300\n",
       "5      NaN       NaN         NaN\n",
       "6    카카오뱅크   26050.0     하향  600\n",
       "7    삼성SDI  710000.0  상향  14,000\n",
       "8    삼성전자우   53900.0     상향  500\n",
       "9     LG화학  678000.0   하향  2,000\n",
       "10    강원랜드   19710.0     하향  490"
      ]
     },
     "execution_count": 7,
     "metadata": {},
     "output_type": "execute_result"
    }
   ],
   "source": [
    "len(temp_table)\n",
    "# 길이 반환값 9\n",
    "temp_table[7]\n",
    "# 7번째 인덱스 번호를 반환해봄 : 그냥 9까지 있어서 아무 숫자나해본거"
   ]
  },
  {
   "cell_type": "code",
   "execution_count": 8,
   "id": "314c7098",
   "metadata": {},
   "outputs": [],
   "source": [
    "#url\n",
    "# https://finance.naver.com/item/news_news.nhn?\n",
    "# code=005930&page=1&sm=title_entity_id.basic&clusterId=\n",
    "item_code = \"005930\" # 딴거 뭐 ~\n",
    "item_name = \"삼성전자\" # 다른거 뭐 ~\n",
    "page_no = 1"
   ]
  },
  {
   "cell_type": "code",
   "execution_count": 9,
   "id": "b6c7eaea",
   "metadata": {},
   "outputs": [
    {
     "name": "stdout",
     "output_type": "stream",
     "text": [
      "https://finance.naver.com/item/news_news.nhn?code=005930&page=1\n",
      "https://finance.naver.com/item/news_news.nhn?code=005930&page=2\n"
     ]
    }
   ],
   "source": [
    "# url\n",
    "for page_no in range(1, 3):\n",
    "    url = f\"https://finance.naver.com/item/news_news.nhn?code={item_code}&page={page_no}\"\n",
    "    print(url)"
   ]
  },
  {
   "cell_type": "code",
   "execution_count": 10,
   "id": "921235b2",
   "metadata": {},
   "outputs": [
    {
     "data": {
      "text/plain": [
       "[                                           제목    정보제공                날짜\n",
       " 0           [美반도체 보조금]①中 철수 불가능한데…삼성·하이닉스 딜레마   아시아경제  2023.03.02 07:50\n",
       " 1        [美반도체 보조금]③삼성·SK 협상 바쁜데…카드마련 쉽지않은 정부   아시아경제  2023.03.02 07:50\n",
       " 2  삼성전자, '전력 반도체' TF 꾸렸다…반도체 먹거리 발굴 나서 [뒷북...    서울경제  2023.03.02 07:31\n",
       " 3  IPO 혹한기에도 ‘펫’은 기대주...GS·삼성·LG도 ‘돈 된다’ 군...  매경이코노미  2023.03.02 07:02\n",
       " 4        삼성·현대차 등 금융복합기업 공시 강화… 위험관리 역량 제고 기대    조선비즈  2023.03.02 06:01\n",
       " 5            바이든 \"美에 와서 만들어라\" 압박…삼성 반도체 '초비상'    한국경제  2023.03.01 18:27\n",
       " 6         美 '국가안보' 43차례 강조하며 中 견제…삼성·SK 선택 기로    매일경제  2023.03.01 17:30\n",
       " 7                 中생산기지 고사 직면…삼성·SK 실적 악화 불가피    이데일리  2023.03.01 17:14\n",
       " 8                美 '독이 든 당근'에…삼성·SK '반도체 속앓이'    이데일리  2023.03.01 17:13\n",
       " 9            [단독]70兆로 훌쩍 큰 전력반도체 시장…TF 가동한 삼성    서울경제  2023.03.01 17:01,\n",
       "    0   1   2   3   4   5   6   7   8   9   10  11  12\n",
       " 0  맨앞   1   2   3   4   5   6   7   8   9  10  다음  맨뒤]"
      ]
     },
     "execution_count": 10,
     "metadata": {},
     "output_type": "execute_result"
    }
   ],
   "source": [
    "table = pd.read_html(url, encoding = \"cp949\")\n",
    "table"
   ]
  },
  {
   "cell_type": "code",
   "execution_count": 11,
   "id": "beaaac32",
   "metadata": {},
   "outputs": [
    {
     "data": {
      "text/html": [
       "<div>\n",
       "<style scoped>\n",
       "    .dataframe tbody tr th:only-of-type {\n",
       "        vertical-align: middle;\n",
       "    }\n",
       "\n",
       "    .dataframe tbody tr th {\n",
       "        vertical-align: top;\n",
       "    }\n",
       "\n",
       "    .dataframe thead th {\n",
       "        text-align: right;\n",
       "    }\n",
       "</style>\n",
       "<table border=\"1\" class=\"dataframe\">\n",
       "  <thead>\n",
       "    <tr style=\"text-align: right;\">\n",
       "      <th></th>\n",
       "      <th>제목</th>\n",
       "      <th>정보제공</th>\n",
       "      <th>날짜</th>\n",
       "    </tr>\n",
       "  </thead>\n",
       "  <tbody>\n",
       "    <tr>\n",
       "      <th>0</th>\n",
       "      <td>[美반도체 보조금]①中 철수 불가능한데…삼성·하이닉스 딜레마</td>\n",
       "      <td>아시아경제</td>\n",
       "      <td>2023.03.02 07:50</td>\n",
       "    </tr>\n",
       "    <tr>\n",
       "      <th>1</th>\n",
       "      <td>[美반도체 보조금]③삼성·SK 협상 바쁜데…카드마련 쉽지않은 정부</td>\n",
       "      <td>아시아경제</td>\n",
       "      <td>2023.03.02 07:50</td>\n",
       "    </tr>\n",
       "    <tr>\n",
       "      <th>2</th>\n",
       "      <td>삼성전자, '전력 반도체' TF 꾸렸다…반도체 먹거리 발굴 나서 [뒷북...</td>\n",
       "      <td>서울경제</td>\n",
       "      <td>2023.03.02 07:31</td>\n",
       "    </tr>\n",
       "    <tr>\n",
       "      <th>3</th>\n",
       "      <td>IPO 혹한기에도 ‘펫’은 기대주...GS·삼성·LG도 ‘돈 된다’ 군...</td>\n",
       "      <td>매경이코노미</td>\n",
       "      <td>2023.03.02 07:02</td>\n",
       "    </tr>\n",
       "    <tr>\n",
       "      <th>4</th>\n",
       "      <td>삼성·현대차 등 금융복합기업 공시 강화… 위험관리 역량 제고 기대</td>\n",
       "      <td>조선비즈</td>\n",
       "      <td>2023.03.02 06:01</td>\n",
       "    </tr>\n",
       "    <tr>\n",
       "      <th>5</th>\n",
       "      <td>바이든 \"美에 와서 만들어라\" 압박…삼성 반도체 '초비상'</td>\n",
       "      <td>한국경제</td>\n",
       "      <td>2023.03.01 18:27</td>\n",
       "    </tr>\n",
       "    <tr>\n",
       "      <th>6</th>\n",
       "      <td>美 '국가안보' 43차례 강조하며 中 견제…삼성·SK 선택 기로</td>\n",
       "      <td>매일경제</td>\n",
       "      <td>2023.03.01 17:30</td>\n",
       "    </tr>\n",
       "    <tr>\n",
       "      <th>7</th>\n",
       "      <td>中생산기지 고사 직면…삼성·SK 실적 악화 불가피</td>\n",
       "      <td>이데일리</td>\n",
       "      <td>2023.03.01 17:14</td>\n",
       "    </tr>\n",
       "    <tr>\n",
       "      <th>8</th>\n",
       "      <td>美 '독이 든 당근'에…삼성·SK '반도체 속앓이'</td>\n",
       "      <td>이데일리</td>\n",
       "      <td>2023.03.01 17:13</td>\n",
       "    </tr>\n",
       "    <tr>\n",
       "      <th>9</th>\n",
       "      <td>[단독]70兆로 훌쩍 큰 전력반도체 시장…TF 가동한 삼성</td>\n",
       "      <td>서울경제</td>\n",
       "      <td>2023.03.01 17:01</td>\n",
       "    </tr>\n",
       "  </tbody>\n",
       "</table>\n",
       "</div>"
      ],
      "text/plain": [
       "                                           제목    정보제공                날짜\n",
       "0           [美반도체 보조금]①中 철수 불가능한데…삼성·하이닉스 딜레마   아시아경제  2023.03.02 07:50\n",
       "1        [美반도체 보조금]③삼성·SK 협상 바쁜데…카드마련 쉽지않은 정부   아시아경제  2023.03.02 07:50\n",
       "2  삼성전자, '전력 반도체' TF 꾸렸다…반도체 먹거리 발굴 나서 [뒷북...    서울경제  2023.03.02 07:31\n",
       "3  IPO 혹한기에도 ‘펫’은 기대주...GS·삼성·LG도 ‘돈 된다’ 군...  매경이코노미  2023.03.02 07:02\n",
       "4        삼성·현대차 등 금융복합기업 공시 강화… 위험관리 역량 제고 기대    조선비즈  2023.03.02 06:01\n",
       "5            바이든 \"美에 와서 만들어라\" 압박…삼성 반도체 '초비상'    한국경제  2023.03.01 18:27\n",
       "6         美 '국가안보' 43차례 강조하며 中 견제…삼성·SK 선택 기로    매일경제  2023.03.01 17:30\n",
       "7                 中생산기지 고사 직면…삼성·SK 실적 악화 불가피    이데일리  2023.03.01 17:14\n",
       "8                美 '독이 든 당근'에…삼성·SK '반도체 속앓이'    이데일리  2023.03.01 17:13\n",
       "9            [단독]70兆로 훌쩍 큰 전력반도체 시장…TF 가동한 삼성    서울경제  2023.03.01 17:01"
      ]
     },
     "execution_count": 11,
     "metadata": {},
     "output_type": "execute_result"
    }
   ],
   "source": [
    "df = table[0]\n",
    "df"
   ]
  },
  {
   "cell_type": "code",
   "execution_count": 12,
   "id": "dd0f5dec",
   "metadata": {},
   "outputs": [
    {
     "data": {
      "text/plain": [
       "Index(['제목', '정보제공', '날짜'], dtype='object')"
      ]
     },
     "execution_count": 12,
     "metadata": {},
     "output_type": "execute_result"
    }
   ],
   "source": [
    "# for문을 사용해 table 변수 안에 있는 값을 모두 가져오기\n",
    "# temp_list에 수집한 값 담아주기\n",
    "cols = table[0].columns # : ['제목', '정보제공', '날짜']\n",
    "cols"
   ]
  },
  {
   "cell_type": "code",
   "execution_count": 13,
   "id": "2123657b",
   "metadata": {
    "scrolled": false
   },
   "outputs": [
    {
     "name": "stdout",
     "output_type": "stream",
     "text": [
      "Index(['제목', '정보제공', '날짜'], dtype='object')\n"
     ]
    },
    {
     "data": {
      "text/html": [
       "<div>\n",
       "<style scoped>\n",
       "    .dataframe tbody tr th:only-of-type {\n",
       "        vertical-align: middle;\n",
       "    }\n",
       "\n",
       "    .dataframe tbody tr th {\n",
       "        vertical-align: top;\n",
       "    }\n",
       "\n",
       "    .dataframe thead th {\n",
       "        text-align: right;\n",
       "    }\n",
       "</style>\n",
       "<table border=\"1\" class=\"dataframe\">\n",
       "  <thead>\n",
       "    <tr style=\"text-align: right;\">\n",
       "      <th></th>\n",
       "      <th>제목</th>\n",
       "      <th>정보제공</th>\n",
       "      <th>날짜</th>\n",
       "    </tr>\n",
       "  </thead>\n",
       "  <tbody>\n",
       "    <tr>\n",
       "      <th>0</th>\n",
       "      <td>[美반도체 보조금]①中 철수 불가능한데…삼성·하이닉스 딜레마</td>\n",
       "      <td>아시아경제</td>\n",
       "      <td>2023.03.02 07:50</td>\n",
       "    </tr>\n",
       "    <tr>\n",
       "      <th>1</th>\n",
       "      <td>[美반도체 보조금]③삼성·SK 협상 바쁜데…카드마련 쉽지않은 정부</td>\n",
       "      <td>아시아경제</td>\n",
       "      <td>2023.03.02 07:50</td>\n",
       "    </tr>\n",
       "    <tr>\n",
       "      <th>2</th>\n",
       "      <td>삼성전자, '전력 반도체' TF 꾸렸다…반도체 먹거리 발굴 나서 [뒷북...</td>\n",
       "      <td>서울경제</td>\n",
       "      <td>2023.03.02 07:31</td>\n",
       "    </tr>\n",
       "    <tr>\n",
       "      <th>3</th>\n",
       "      <td>IPO 혹한기에도 ‘펫’은 기대주...GS·삼성·LG도 ‘돈 된다’ 군...</td>\n",
       "      <td>매경이코노미</td>\n",
       "      <td>2023.03.02 07:02</td>\n",
       "    </tr>\n",
       "    <tr>\n",
       "      <th>4</th>\n",
       "      <td>삼성·현대차 등 금융복합기업 공시 강화… 위험관리 역량 제고 기대</td>\n",
       "      <td>조선비즈</td>\n",
       "      <td>2023.03.02 06:01</td>\n",
       "    </tr>\n",
       "    <tr>\n",
       "      <th>5</th>\n",
       "      <td>바이든 \"美에 와서 만들어라\" 압박…삼성 반도체 '초비상'</td>\n",
       "      <td>한국경제</td>\n",
       "      <td>2023.03.01 18:27</td>\n",
       "    </tr>\n",
       "    <tr>\n",
       "      <th>6</th>\n",
       "      <td>美 '국가안보' 43차례 강조하며 中 견제…삼성·SK 선택 기로</td>\n",
       "      <td>매일경제</td>\n",
       "      <td>2023.03.01 17:30</td>\n",
       "    </tr>\n",
       "    <tr>\n",
       "      <th>7</th>\n",
       "      <td>中생산기지 고사 직면…삼성·SK 실적 악화 불가피</td>\n",
       "      <td>이데일리</td>\n",
       "      <td>2023.03.01 17:14</td>\n",
       "    </tr>\n",
       "    <tr>\n",
       "      <th>8</th>\n",
       "      <td>美 '독이 든 당근'에…삼성·SK '반도체 속앓이'</td>\n",
       "      <td>이데일리</td>\n",
       "      <td>2023.03.01 17:13</td>\n",
       "    </tr>\n",
       "    <tr>\n",
       "      <th>9</th>\n",
       "      <td>[단독]70兆로 훌쩍 큰 전력반도체 시장…TF 가동한 삼성</td>\n",
       "      <td>서울경제</td>\n",
       "      <td>2023.03.01 17:01</td>\n",
       "    </tr>\n",
       "  </tbody>\n",
       "</table>\n",
       "</div>"
      ],
      "text/plain": [
       "                                           제목    정보제공                날짜\n",
       "0           [美반도체 보조금]①中 철수 불가능한데…삼성·하이닉스 딜레마   아시아경제  2023.03.02 07:50\n",
       "1        [美반도체 보조금]③삼성·SK 협상 바쁜데…카드마련 쉽지않은 정부   아시아경제  2023.03.02 07:50\n",
       "2  삼성전자, '전력 반도체' TF 꾸렸다…반도체 먹거리 발굴 나서 [뒷북...    서울경제  2023.03.02 07:31\n",
       "3  IPO 혹한기에도 ‘펫’은 기대주...GS·삼성·LG도 ‘돈 된다’ 군...  매경이코노미  2023.03.02 07:02\n",
       "4        삼성·현대차 등 금융복합기업 공시 강화… 위험관리 역량 제고 기대    조선비즈  2023.03.02 06:01\n",
       "5            바이든 \"美에 와서 만들어라\" 압박…삼성 반도체 '초비상'    한국경제  2023.03.01 18:27\n",
       "6         美 '국가안보' 43차례 강조하며 中 견제…삼성·SK 선택 기로    매일경제  2023.03.01 17:30\n",
       "7                 中생산기지 고사 직면…삼성·SK 실적 악화 불가피    이데일리  2023.03.01 17:14\n",
       "8                美 '독이 든 당근'에…삼성·SK '반도체 속앓이'    이데일리  2023.03.01 17:13\n",
       "9            [단독]70兆로 훌쩍 큰 전력반도체 시장…TF 가동한 삼성    서울경제  2023.03.01 17:01"
      ]
     },
     "metadata": {},
     "output_type": "display_data"
    }
   ],
   "source": [
    "temp_list = []\n",
    "for news in table[:-1]: \n",
    "    news.columns = cols\n",
    "    print(news.columns)\n",
    "    display(news)\n",
    "    temp_list.append(news)"
   ]
  },
  {
   "cell_type": "code",
   "execution_count": 15,
   "id": "1e627c7c",
   "metadata": {},
   "outputs": [
    {
     "data": {
      "text/html": [
       "<div>\n",
       "<style scoped>\n",
       "    .dataframe tbody tr th:only-of-type {\n",
       "        vertical-align: middle;\n",
       "    }\n",
       "\n",
       "    .dataframe tbody tr th {\n",
       "        vertical-align: top;\n",
       "    }\n",
       "\n",
       "    .dataframe thead th {\n",
       "        text-align: right;\n",
       "    }\n",
       "</style>\n",
       "<table border=\"1\" class=\"dataframe\">\n",
       "  <thead>\n",
       "    <tr style=\"text-align: right;\">\n",
       "      <th></th>\n",
       "      <th>제목</th>\n",
       "      <th>정보제공</th>\n",
       "      <th>날짜</th>\n",
       "    </tr>\n",
       "  </thead>\n",
       "  <tbody>\n",
       "    <tr>\n",
       "      <th>0</th>\n",
       "      <td>[美반도체 보조금]①中 철수 불가능한데…삼성·하이닉스 딜레마</td>\n",
       "      <td>아시아경제</td>\n",
       "      <td>2023.03.02 07:50</td>\n",
       "    </tr>\n",
       "    <tr>\n",
       "      <th>1</th>\n",
       "      <td>[美반도체 보조금]③삼성·SK 협상 바쁜데…카드마련 쉽지않은 정부</td>\n",
       "      <td>아시아경제</td>\n",
       "      <td>2023.03.02 07:50</td>\n",
       "    </tr>\n",
       "    <tr>\n",
       "      <th>2</th>\n",
       "      <td>삼성전자, '전력 반도체' TF 꾸렸다…반도체 먹거리 발굴 나서 [뒷북...</td>\n",
       "      <td>서울경제</td>\n",
       "      <td>2023.03.02 07:31</td>\n",
       "    </tr>\n",
       "    <tr>\n",
       "      <th>3</th>\n",
       "      <td>IPO 혹한기에도 ‘펫’은 기대주...GS·삼성·LG도 ‘돈 된다’ 군...</td>\n",
       "      <td>매경이코노미</td>\n",
       "      <td>2023.03.02 07:02</td>\n",
       "    </tr>\n",
       "    <tr>\n",
       "      <th>4</th>\n",
       "      <td>삼성·현대차 등 금융복합기업 공시 강화… 위험관리 역량 제고 기대</td>\n",
       "      <td>조선비즈</td>\n",
       "      <td>2023.03.02 06:01</td>\n",
       "    </tr>\n",
       "    <tr>\n",
       "      <th>5</th>\n",
       "      <td>바이든 \"美에 와서 만들어라\" 압박…삼성 반도체 '초비상'</td>\n",
       "      <td>한국경제</td>\n",
       "      <td>2023.03.01 18:27</td>\n",
       "    </tr>\n",
       "    <tr>\n",
       "      <th>6</th>\n",
       "      <td>美 '국가안보' 43차례 강조하며 中 견제…삼성·SK 선택 기로</td>\n",
       "      <td>매일경제</td>\n",
       "      <td>2023.03.01 17:30</td>\n",
       "    </tr>\n",
       "    <tr>\n",
       "      <th>7</th>\n",
       "      <td>中생산기지 고사 직면…삼성·SK 실적 악화 불가피</td>\n",
       "      <td>이데일리</td>\n",
       "      <td>2023.03.01 17:14</td>\n",
       "    </tr>\n",
       "    <tr>\n",
       "      <th>8</th>\n",
       "      <td>美 '독이 든 당근'에…삼성·SK '반도체 속앓이'</td>\n",
       "      <td>이데일리</td>\n",
       "      <td>2023.03.01 17:13</td>\n",
       "    </tr>\n",
       "    <tr>\n",
       "      <th>9</th>\n",
       "      <td>[단독]70兆로 훌쩍 큰 전력반도체 시장…TF 가동한 삼성</td>\n",
       "      <td>서울경제</td>\n",
       "      <td>2023.03.01 17:01</td>\n",
       "    </tr>\n",
       "  </tbody>\n",
       "</table>\n",
       "</div>"
      ],
      "text/plain": [
       "                                           제목    정보제공                날짜\n",
       "0           [美반도체 보조금]①中 철수 불가능한데…삼성·하이닉스 딜레마   아시아경제  2023.03.02 07:50\n",
       "1        [美반도체 보조금]③삼성·SK 협상 바쁜데…카드마련 쉽지않은 정부   아시아경제  2023.03.02 07:50\n",
       "2  삼성전자, '전력 반도체' TF 꾸렸다…반도체 먹거리 발굴 나서 [뒷북...    서울경제  2023.03.02 07:31\n",
       "3  IPO 혹한기에도 ‘펫’은 기대주...GS·삼성·LG도 ‘돈 된다’ 군...  매경이코노미  2023.03.02 07:02\n",
       "4        삼성·현대차 등 금융복합기업 공시 강화… 위험관리 역량 제고 기대    조선비즈  2023.03.02 06:01\n",
       "5            바이든 \"美에 와서 만들어라\" 압박…삼성 반도체 '초비상'    한국경제  2023.03.01 18:27\n",
       "6         美 '국가안보' 43차례 강조하며 中 견제…삼성·SK 선택 기로    매일경제  2023.03.01 17:30\n",
       "7                 中생산기지 고사 직면…삼성·SK 실적 악화 불가피    이데일리  2023.03.01 17:14\n",
       "8                美 '독이 든 당근'에…삼성·SK '반도체 속앓이'    이데일리  2023.03.01 17:13\n",
       "9            [단독]70兆로 훌쩍 큰 전력반도체 시장…TF 가동한 삼성    서울경제  2023.03.01 17:01"
      ]
     },
     "execution_count": 15,
     "metadata": {},
     "output_type": "execute_result"
    }
   ],
   "source": [
    "# 반복문으로 가져온 df들을 합쳐주기\n",
    "# 원래는 몇페이지는 나오는데.. 오늘은 기사가 별로 없네 ㅠ\n",
    "df_one_page = pd.concat(temp_list)\n",
    "df_one_page"
   ]
  },
  {
   "cell_type": "code",
   "execution_count": 18,
   "id": "fa87cc25",
   "metadata": {},
   "outputs": [
    {
     "data": {
      "text/plain": [
       "(10, 3)"
      ]
     },
     "execution_count": 18,
     "metadata": {},
     "output_type": "execute_result"
    }
   ],
   "source": [
    "# 결측치제거\n",
    "df = df_one_page.dropna()\n",
    "df.shape"
   ]
  },
  {
   "cell_type": "code",
   "execution_count": 19,
   "id": "637e3206",
   "metadata": {},
   "outputs": [
    {
     "data": {
      "text/html": [
       "<div>\n",
       "<style scoped>\n",
       "    .dataframe tbody tr th:only-of-type {\n",
       "        vertical-align: middle;\n",
       "    }\n",
       "\n",
       "    .dataframe tbody tr th {\n",
       "        vertical-align: top;\n",
       "    }\n",
       "\n",
       "    .dataframe thead th {\n",
       "        text-align: right;\n",
       "    }\n",
       "</style>\n",
       "<table border=\"1\" class=\"dataframe\">\n",
       "  <thead>\n",
       "    <tr style=\"text-align: right;\">\n",
       "      <th></th>\n",
       "      <th>제목</th>\n",
       "      <th>정보제공</th>\n",
       "      <th>날짜</th>\n",
       "    </tr>\n",
       "  </thead>\n",
       "  <tbody>\n",
       "    <tr>\n",
       "      <th>0</th>\n",
       "      <td>[美반도체 보조금]①中 철수 불가능한데…삼성·하이닉스 딜레마</td>\n",
       "      <td>아시아경제</td>\n",
       "      <td>2023.03.02 07:50</td>\n",
       "    </tr>\n",
       "    <tr>\n",
       "      <th>1</th>\n",
       "      <td>[美반도체 보조금]③삼성·SK 협상 바쁜데…카드마련 쉽지않은 정부</td>\n",
       "      <td>아시아경제</td>\n",
       "      <td>2023.03.02 07:50</td>\n",
       "    </tr>\n",
       "    <tr>\n",
       "      <th>2</th>\n",
       "      <td>삼성전자, '전력 반도체' TF 꾸렸다…반도체 먹거리 발굴 나서 [뒷북...</td>\n",
       "      <td>서울경제</td>\n",
       "      <td>2023.03.02 07:31</td>\n",
       "    </tr>\n",
       "    <tr>\n",
       "      <th>3</th>\n",
       "      <td>IPO 혹한기에도 ‘펫’은 기대주...GS·삼성·LG도 ‘돈 된다’ 군...</td>\n",
       "      <td>매경이코노미</td>\n",
       "      <td>2023.03.02 07:02</td>\n",
       "    </tr>\n",
       "    <tr>\n",
       "      <th>4</th>\n",
       "      <td>삼성·현대차 등 금융복합기업 공시 강화… 위험관리 역량 제고 기대</td>\n",
       "      <td>조선비즈</td>\n",
       "      <td>2023.03.02 06:01</td>\n",
       "    </tr>\n",
       "  </tbody>\n",
       "</table>\n",
       "</div>"
      ],
      "text/plain": [
       "                                           제목    정보제공                날짜\n",
       "0           [美반도체 보조금]①中 철수 불가능한데…삼성·하이닉스 딜레마   아시아경제  2023.03.02 07:50\n",
       "1        [美반도체 보조금]③삼성·SK 협상 바쁜데…카드마련 쉽지않은 정부   아시아경제  2023.03.02 07:50\n",
       "2  삼성전자, '전력 반도체' TF 꾸렸다…반도체 먹거리 발굴 나서 [뒷북...    서울경제  2023.03.02 07:31\n",
       "3  IPO 혹한기에도 ‘펫’은 기대주...GS·삼성·LG도 ‘돈 된다’ 군...  매경이코노미  2023.03.02 07:02\n",
       "4        삼성·현대차 등 금융복합기업 공시 강화… 위험관리 역량 제고 기대    조선비즈  2023.03.02 06:01"
      ]
     },
     "execution_count": 19,
     "metadata": {},
     "output_type": "execute_result"
    }
   ],
   "source": [
    "# 연관기사가 들어가는 데이터 제거\n",
    "df_one_page = df_one_page[~df_one_page[\"제목\"].str.contains(\"연관기사\")]\n",
    "df_one_page.head()"
   ]
  },
  {
   "cell_type": "markdown",
   "id": "273803a2",
   "metadata": {},
   "source": [
    "## 위 과정 함수로 만들기 \n",
    "수집한 table 을 넘겨주면 데이터프레임을 반환하는 함수를 완성해보기"
   ]
  },
  {
   "cell_type": "markdown",
   "id": "c7c5f8f9",
   "metadata": {},
   "source": [
    "### get_url 함수 먼저 만들어보기"
   ]
  },
  {
   "cell_type": "code",
   "execution_count": 20,
   "id": "e95dd120",
   "metadata": {},
   "outputs": [
    {
     "data": {
      "text/plain": [
       "'https://finance.naver.com/item/news_news.nhn?code=005930&page=2'"
      ]
     },
     "execution_count": 20,
     "metadata": {},
     "output_type": "execute_result"
    }
   ],
   "source": [
    "url"
   ]
  },
  {
   "cell_type": "code",
   "execution_count": 22,
   "id": "a0ab81ee",
   "metadata": {},
   "outputs": [
    {
     "name": "stdout",
     "output_type": "stream",
     "text": [
      "함수 호출 반환 값 : https://finance.naver.com/item/news_news.nhn?code=00600&page=2\n"
     ]
    }
   ],
   "source": [
    "# get_url : 아이템코드, 페이지 넘버를 넘기면 url을 반환해주는 함수\n",
    "def get_url(item_code,page_no):\n",
    "    \"\"\"item_code, page_no를 넘기면\n",
    "    url을 반환해주는 함수\"\"\"\n",
    "    url = f'https://finance.naver.com/item/news_news.nhn?code={item_code}&page={page_no}'\n",
    "    return (url)\n",
    "\n",
    "temp_url = get_url(\"00600\",2)\n",
    "print(\"함수 호출 반환 값 :\", temp_url)"
   ]
  },
  {
   "cell_type": "code",
   "execution_count": 23,
   "id": "2211ad24",
   "metadata": {},
   "outputs": [
    {
     "name": "stdout",
     "output_type": "stream",
     "text": [
      "Help on function get_url in module __main__:\n",
      "\n",
      "get_url(item_code, page_no)\n",
      "    item_code, page_no를 넘기면\n",
      "    url을 반환해주는 함수\n",
      "\n"
     ]
    }
   ],
   "source": [
    "# help(함수이름) 하면 독스트링 출력\n",
    "help(get_url)"
   ]
  },
  {
   "cell_type": "markdown",
   "id": "cd08af22",
   "metadata": {},
   "source": [
    "## 뉴스 한 페이지를 수집하는 함수\n",
    "1) url 받아오기\n",
    "2) read_html로 테이블 정보 받아오기\n",
    "3) 컬럼명 [\"제목\",\"정보제공\",\"날짜\"]로 변경하기\n",
    "4) tmp_list에 데이터프레임 추가\n",
    "5) concat으로 리스트 병합하여 하나의 프레임으로 만들기\n",
    "6) 결측치 제거\n",
    "7) 연관기사 제거\n",
    "8) 중복데이터 제거\n",
    "9) 데이터프레임 반환"
   ]
  },
  {
   "cell_type": "code",
   "execution_count": 43,
   "id": "5319e327",
   "metadata": {},
   "outputs": [],
   "source": [
    "# get_one_page_news 함수\n",
    "def get_one_page_news(item_code, page_no):\n",
    "    \"\"\"\n",
    "    1) url 받아오기\n",
    "    2) read_html로 테이블 정보 받아오기\n",
    "    3) 컬럼명 [\"제목\",\"정보제공\",\"날짜\"]로 변경하기\n",
    "    4) temp_list2에 데이터프레임 추가\n",
    "    5) concat으로 리스트 병합하여 하나의 프레임으로 만들기\n",
    "    6) 결측치 제거\n",
    "    7) 연관기사 제거\n",
    "    8) 중복데이터 제거\n",
    "    9) 데이터프레임 반환\n",
    "    \"\"\"\n",
    "    #news_url = f'https://finance.naver.com/item/news_news.nhn?code={item_code}&page={page_no}'\n",
    "    # 위의 url 사용하면 아이템코드가 계속 삼성인채로 머무름 ...\n",
    "    news_url = get_url(item_code, page_no)\n",
    "    temp_table = pd.read_html(news_url)\n",
    "    \n",
    "    temp_list2 = list()\n",
    "    for t in temp_table[:-1]:\n",
    "        t.columns = temp_table[0].columns\n",
    "        temp_list2.append(t)\n",
    "    df_one = pd.concat(temp_list2)\n",
    "    df_one = df_one.dropna()\n",
    "    df_one = df_one[~df_one[\"제목\"].str.contains(\"연관기사\")]\n",
    "    df_one = df_one.drop_duplicates()\n",
    "    \n",
    "    return df_one\n",
    "\n",
    "\n",
    "# return 과 print 의 차이!\n",
    "# print 는 출력만 함 반환값이 없음, 변수에 저장 안됨\n",
    "# return 은 함수 밖으로 반환을 함\n",
    "# return 을 사용해야 반환값을 변수에 담아서 사용할 수 있"
   ]
  },
  {
   "cell_type": "code",
   "execution_count": 44,
   "id": "8650e6aa",
   "metadata": {},
   "outputs": [
    {
     "data": {
      "text/html": [
       "<div>\n",
       "<style scoped>\n",
       "    .dataframe tbody tr th:only-of-type {\n",
       "        vertical-align: middle;\n",
       "    }\n",
       "\n",
       "    .dataframe tbody tr th {\n",
       "        vertical-align: top;\n",
       "    }\n",
       "\n",
       "    .dataframe thead th {\n",
       "        text-align: right;\n",
       "    }\n",
       "</style>\n",
       "<table border=\"1\" class=\"dataframe\">\n",
       "  <thead>\n",
       "    <tr style=\"text-align: right;\">\n",
       "      <th></th>\n",
       "      <th>제목</th>\n",
       "      <th>정보제공</th>\n",
       "      <th>날짜</th>\n",
       "    </tr>\n",
       "  </thead>\n",
       "  <tbody>\n",
       "    <tr>\n",
       "      <th>0</th>\n",
       "      <td>이복현 금감원장 “SM엔터 시세조종 의혹 무관용으로 엄단”</td>\n",
       "      <td>매일경제</td>\n",
       "      <td>2023.03.02 16:26</td>\n",
       "    </tr>\n",
       "    <tr>\n",
       "      <th>1</th>\n",
       "      <td>금감원장 “에스엠 시세조정 의혹, 위법 확인되면 무관용으로 책임 물을 ...</td>\n",
       "      <td>조선비즈</td>\n",
       "      <td>2023.03.02 15:49</td>\n",
       "    </tr>\n",
       "    <tr>\n",
       "      <th>2</th>\n",
       "      <td>조현준 회장의 효성 계열사, SM엔터 지분 하이브에 매각</td>\n",
       "      <td>비즈워치</td>\n",
       "      <td>2023.03.02 15:48</td>\n",
       "    </tr>\n",
       "    <tr>\n",
       "      <th>3</th>\n",
       "      <td>[데이터로 보는 증시]에스엠·성일하이텍, 기관·외국인 코스닥 순매수 1...</td>\n",
       "      <td>서울경제</td>\n",
       "      <td>2023.03.02 15:44</td>\n",
       "    </tr>\n",
       "    <tr>\n",
       "      <th>4</th>\n",
       "      <td>이제 카카오도 나설까…하이브 공개매수 마감에도 에스엠 강세</td>\n",
       "      <td>매일경제</td>\n",
       "      <td>2023.03.02 12:06</td>\n",
       "    </tr>\n",
       "    <tr>\n",
       "      <th>5</th>\n",
       "      <td>에스엠 “하이브 이사회, 뉴진스에 더 좋은 곡 줄 것”… 소액주주 서한...</td>\n",
       "      <td>조선비즈</td>\n",
       "      <td>2023.03.01 18:01</td>\n",
       "    </tr>\n",
       "    <tr>\n",
       "      <th>6</th>\n",
       "      <td>금감원, 에스엠 '시세조종' 의혹 조사… '실패' 앞둔 하이브 공개매수</td>\n",
       "      <td>머니투데이</td>\n",
       "      <td>2023.03.01 13:17</td>\n",
       "    </tr>\n",
       "    <tr>\n",
       "      <th>8</th>\n",
       "      <td>금감원, 에스엠 공개매수 기간 시세조종 여부 신속 조사</td>\n",
       "      <td>비즈워치</td>\n",
       "      <td>2023.03.01 11:25</td>\n",
       "    </tr>\n",
       "    <tr>\n",
       "      <th>9</th>\n",
       "      <td>금감원 \"에스엠 관련 불공정거래 의혹, 조사 착수해 엄정 대응\"</td>\n",
       "      <td>이데일리</td>\n",
       "      <td>2023.03.01 10:22</td>\n",
       "    </tr>\n",
       "    <tr>\n",
       "      <th>10</th>\n",
       "      <td>에스엠 시세조종 있었나...금감원 “인위적 주가 조작 확인되면 처벌”</td>\n",
       "      <td>조선비즈</td>\n",
       "      <td>2023.03.01 10:03</td>\n",
       "    </tr>\n",
       "    <tr>\n",
       "      <th>11</th>\n",
       "      <td>금감원, '에스엠 시세조종' 의혹에 \"신속 조사, 엄정 대응\"</td>\n",
       "      <td>머니투데이</td>\n",
       "      <td>2023.03.01 09:47</td>\n",
       "    </tr>\n",
       "    <tr>\n",
       "      <th>12</th>\n",
       "      <td>2월 증시 거래대금 1위 삼전…에코프로비엠·포스코케미칼·에스엠도 상위권</td>\n",
       "      <td>조선비즈</td>\n",
       "      <td>2023.03.01 11:17</td>\n",
       "    </tr>\n",
       "    <tr>\n",
       "      <th>13</th>\n",
       "      <td>금감원, SM엔터 시세조종 의혹 들여다본다</td>\n",
       "      <td>서울경제</td>\n",
       "      <td>2023.03.01 11:03</td>\n",
       "    </tr>\n",
       "    <tr>\n",
       "      <th>14</th>\n",
       "      <td>에스엠 공개매수 때 개인·기관 주식 팔았다…2975억원 매도</td>\n",
       "      <td>조선비즈</td>\n",
       "      <td>2023.03.01 09:36</td>\n",
       "    </tr>\n",
       "  </tbody>\n",
       "</table>\n",
       "</div>"
      ],
      "text/plain": [
       "                                            제목   정보제공                날짜\n",
       "0             이복현 금감원장 “SM엔터 시세조종 의혹 무관용으로 엄단”   매일경제  2023.03.02 16:26\n",
       "1   금감원장 “에스엠 시세조정 의혹, 위법 확인되면 무관용으로 책임 물을 ...   조선비즈  2023.03.02 15:49\n",
       "2              조현준 회장의 효성 계열사, SM엔터 지분 하이브에 매각   비즈워치  2023.03.02 15:48\n",
       "3   [데이터로 보는 증시]에스엠·성일하이텍, 기관·외국인 코스닥 순매수 1...   서울경제  2023.03.02 15:44\n",
       "4             이제 카카오도 나설까…하이브 공개매수 마감에도 에스엠 강세   매일경제  2023.03.02 12:06\n",
       "5   에스엠 “하이브 이사회, 뉴진스에 더 좋은 곡 줄 것”… 소액주주 서한...   조선비즈  2023.03.01 18:01\n",
       "6      금감원, 에스엠 '시세조종' 의혹 조사… '실패' 앞둔 하이브 공개매수  머니투데이  2023.03.01 13:17\n",
       "8               금감원, 에스엠 공개매수 기간 시세조종 여부 신속 조사   비즈워치  2023.03.01 11:25\n",
       "9          금감원 \"에스엠 관련 불공정거래 의혹, 조사 착수해 엄정 대응\"   이데일리  2023.03.01 10:22\n",
       "10      에스엠 시세조종 있었나...금감원 “인위적 주가 조작 확인되면 처벌”   조선비즈  2023.03.01 10:03\n",
       "11          금감원, '에스엠 시세조종' 의혹에 \"신속 조사, 엄정 대응\"  머니투데이  2023.03.01 09:47\n",
       "12     2월 증시 거래대금 1위 삼전…에코프로비엠·포스코케미칼·에스엠도 상위권   조선비즈  2023.03.01 11:17\n",
       "13                     금감원, SM엔터 시세조종 의혹 들여다본다   서울경제  2023.03.01 11:03\n",
       "14           에스엠 공개매수 때 개인·기관 주식 팔았다…2975억원 매도   조선비즈  2023.03.01 09:36"
      ]
     },
     "execution_count": 44,
     "metadata": {},
     "output_type": "execute_result"
    }
   ],
   "source": [
    "# 352820 하이브\n",
    "# 041510 에스엠\n",
    "\n",
    "get_one_page_news(\"041510\",1)"
   ]
  },
  {
   "cell_type": "markdown",
   "id": "d3df7e72",
   "metadata": {},
   "source": [
    "## 반복문을 사용해 10페이지 까지 수집\n",
    "\n",
    "* 위에서 만든 함수 활용\n",
    "* time.sleep() 통해 데이터를 쉬었다가 가져옴"
   ]
  },
  {
   "cell_type": "code",
   "execution_count": 45,
   "id": "6e30ef68",
   "metadata": {},
   "outputs": [
    {
     "data": {
      "text/plain": [
       "[1, 2, 3, 4, 5, 6, 7, 8, 9, 10]"
      ]
     },
     "execution_count": 45,
     "metadata": {},
     "output_type": "execute_result"
    }
   ],
   "source": [
    "# 11이 되기 전에 종료\n",
    "list(range(1,11))"
   ]
  },
  {
   "cell_type": "code",
   "execution_count": 46,
   "id": "564aa118",
   "metadata": {},
   "outputs": [
    {
     "data": {
      "text/plain": [
       "[10, 9, 8, 7, 6, 5, 4, 3, 2, 1]"
      ]
     },
     "execution_count": 46,
     "metadata": {},
     "output_type": "execute_result"
    }
   ],
   "source": [
    "# range(MIN, MAX, GAP)\n",
    "# max-1 에서 종료\n",
    "list(range(10,0,-1))"
   ]
  },
  {
   "cell_type": "code",
   "execution_count": 47,
   "id": "1757ed4a",
   "metadata": {
    "scrolled": true
   },
   "outputs": [
    {
     "name": "stderr",
     "output_type": "stream",
     "text": [
      "100%|███████████████████████████████████████████| 10/10 [00:02<00:00,  4.57it/s]\n"
     ]
    },
    {
     "data": {
      "text/plain": [
       "10"
      ]
     },
     "execution_count": 47,
     "metadata": {},
     "output_type": "execute_result"
    }
   ],
   "source": [
    "#\"tqdm\"은 아랍어로 \"taqadum\"이라고 하며, \"진행(progress)\"의 의미\n",
    "\n",
    "import time\n",
    "from tqdm import tqdm, trange\n",
    "\n",
    "page_no = 10\n",
    "news_list = []\n",
    "\n",
    "# range(x,y)에서 y-1에서 끊기니 +1\n",
    "for no in trange(1, page_no+1):\n",
    "    df_one_news = get_one_page_news(item_code,no)\n",
    "    news_list.append(df_one_news)\n",
    "    \n",
    "    time.sleep(0.1)\n",
    "\n",
    "# 길이 반환해서 페이지 추가되었나 확인\n",
    "len(news_list)"
   ]
  },
  {
   "cell_type": "code",
   "execution_count": 51,
   "id": "18cbd379",
   "metadata": {
    "scrolled": false
   },
   "outputs": [
    {
     "data": {
      "text/plain": [
       "[                                            제목   정보제공                날짜\n",
       " 0             이복현 금감원장 “SM엔터 시세조종 의혹 무관용으로 엄단”   매일경제  2023.03.02 16:26\n",
       " 1   금감원장 “에스엠 시세조정 의혹, 위법 확인되면 무관용으로 책임 물을 ...   조선비즈  2023.03.02 15:49\n",
       " 2              조현준 회장의 효성 계열사, SM엔터 지분 하이브에 매각   비즈워치  2023.03.02 15:48\n",
       " 3   [데이터로 보는 증시]에스엠·성일하이텍, 기관·외국인 코스닥 순매수 1...   서울경제  2023.03.02 15:44\n",
       " 4             이제 카카오도 나설까…하이브 공개매수 마감에도 에스엠 강세   매일경제  2023.03.02 12:06\n",
       " 5   에스엠 “하이브 이사회, 뉴진스에 더 좋은 곡 줄 것”… 소액주주 서한...   조선비즈  2023.03.01 18:01\n",
       " 6      금감원, 에스엠 '시세조종' 의혹 조사… '실패' 앞둔 하이브 공개매수  머니투데이  2023.03.01 13:17\n",
       " 8               금감원, 에스엠 공개매수 기간 시세조종 여부 신속 조사   비즈워치  2023.03.01 11:25\n",
       " 9          금감원 \"에스엠 관련 불공정거래 의혹, 조사 착수해 엄정 대응\"   이데일리  2023.03.01 10:22\n",
       " 10      에스엠 시세조종 있었나...금감원 “인위적 주가 조작 확인되면 처벌”   조선비즈  2023.03.01 10:03\n",
       " 11          금감원, '에스엠 시세조종' 의혹에 \"신속 조사, 엄정 대응\"  머니투데이  2023.03.01 09:47\n",
       " 12     2월 증시 거래대금 1위 삼전…에코프로비엠·포스코케미칼·에스엠도 상위권   조선비즈  2023.03.01 11:17\n",
       " 13                     금감원, SM엔터 시세조종 의혹 들여다본다   서울경제  2023.03.01 11:03\n",
       " 14           에스엠 공개매수 때 개인·기관 주식 팔았다…2975억원 매도   조선비즈  2023.03.01 09:36,\n",
       "                                             제목    정보제공                날짜\n",
       " 0                또 의문의 대량매입…카카오가 SM엔터 주가 끌어올렸나    한국경제  2023.02.28 18:36\n",
       " 2          '1339억원' 카카오가 막았나…하이브, SM엔터 공개매수 실패    한국경제  2023.02.28 18:28\n",
       " 3   하이브, 에스엠 공개매수 실패시에도 신청 물량은 다 매입키로...공식입...    조선비즈  2023.02.28 18:18\n",
       " 5    하이브 공개매수 방해하려고?...에스엠, 또 기타법인 108만주 유입...    조선비즈  2023.02.28 17:37\n",
       " 6            에스엠 공개매수 마지막 날…또 기타법인서 지분 2.8% 취득    이데일리  2023.02.28 17:18\n",
       " 7                     하이브 읍소에도…에스엠 주당 12만원 넘었다    이데일리  2023.02.28 16:59\n",
       " 8    [특징주] 공개매수 마감 다가온 ‘에스엠’, 주가 5% 상승한 12만...    조선비즈  2023.02.28 14:07\n",
       " 9                  [특징주]'공개매수 D-day' 에스엠, 5% ↑    이데일리  2023.02.28 13:46\n",
       " 10             공개매수 마감일 맞은 에스엠, 한때 주가 12만원 아래로    매일경제  2023.02.28 11:25\n",
       " 11            에스엠 공개매수 오늘 마감…주가 12만원서 '오르락내리락'    한국경제  2023.02.28 10:31\n",
       " 12                    에스엠, 공개매수 마감 앞두고 12만원 하회   머니투데이  2023.02.28 10:11\n",
       " 13             [특징주] 에스엠, 공개매수 마감 앞두고 12만원 밑으로    이데일리  2023.02.28 09:27\n",
       " 14            공개매수 마감일…기타법인, SM엔터 지분 2.8% 또 샀다  이코노미스트  2023.02.28 17:16\n",
       " 15          에스엠 공개매수 ‘D-DAY’…뜨거운 쟁점 '세가지'[마켓인]    이데일리  2023.02.28 16:30\n",
       " 16           SM엔터 주가 13만원 뚫은 날…‘IBK판교점’서 무슨 일이  이코노미스트  2023.02.28 16:06\n",
       " 18       [특징주]SM엔터, 하이브의 금감원 조사 요청에 장중 12만원 깨져    서울경제  2023.02.28 10:07\n",
       " 19         하이브 “SM엔터 대량거래, 자본시장법 위반” 금감원 조사 요청    매일경제  2023.02.28 07:51\n",
       " 20         공개매수가 12만원 깨진 에스엠, 비정상거래 의혹도 [증시이슈]  이코노미스트  2023.02.28 10:01\n",
       " 22   하이브 “16일 IBK 판교점서 매수한 에스엠 68만3398주는 시세...    조선비즈  2023.02.28 08:15\n",
       " 23          \"비정상적인 에스엠 주식거래\"...하이브, 금감원에 조사 요청  파이낸셜뉴스  2023.02.28 07:35\n",
       " 24         하이브, SM엔터 대량거래 금감원 조사 요청…\"시세 조종 의심\"    서울경제  2023.02.28 07:25\n",
       " 25  \"SM엔터 주당 9만원에 공개매수하자\"…얼라인, 작년 하이브·CJ에 인...    한국경제  2023.02.27 18:54\n",
       " 26                 '전략 수정' 외친 카카오…SM엔터 공개매수 시사    한국경제  2023.02.27 18:33\n",
       " 28       \"하이브, 더는 못 참아\"…카카오, SM엔터 '맞불 공개매수' 시사    한국경제  2023.02.27 18:32\n",
       " 29        침묵하던 카카오엔터 입 열었다…“SM엔터 전략, 전면 수정할 것”  이코노미스트  2023.02.27 15:17\n",
       " 30  반환점 돈 SM엔터 사태…공개매수 종료 후 관전 포인트는 [허지은의 주...  이코노미스트  2023.02.27 17:30,\n",
       "                                             제목    정보제공                날짜\n",
       " 0                  다가오는 하이브 공개매수, 치솟은 에스엠 대차잔고    이데일리  2023.02.27 16:59\n",
       " 1                  에스엠, 635억 규모 자사주 취득 신탁계약 체결   헤럴드경제  2023.02.27 16:39\n",
       " 3                     에스엠, 635억 규모 자기주식취득 신탁계약    이데일리  2023.02.27 16:33\n",
       " 4                 에스엠, 635억원 규모 자사주 매입 신탁계약 체결   머니투데이  2023.02.27 16:26\n",
       " 5   하이브, ‘에스엠 12만원 공개매수’, 성공이냐 실패냐...카카오 대응...    조선비즈  2023.02.27 16:06\n",
       " 7                에스엠 공개매수 끝나면 주가 빠지나…향후 관전포인트는    매일경제  2023.02.27 12:45\n",
       " 8                   '에스엠 공개매수 마감 D-1' 침묵 깬 카카오    비즈워치  2023.02.27 15:02\n",
       " 9   [특징주]에스엠, 하이브 공개매수 마감 D-1..카카오 공개매수 참전 ...  파이낸셜뉴스  2023.02.27 13:49\n",
       " 10                   [공시줍줍]에스엠 인수전서 발 뺀 CJ ENM    비즈워치  2023.02.27 12:01\n",
       " 11                에스엠 경영권 분쟁에 의결권 자문사 대결도 ‘후끈’    매일경제  2023.02.27 11:59\n",
       " 12           카카오 \"모든 수단 강구하겠다\"…SM엔터 대항 공개매수 시사    한국경제  2023.02.27 11:41\n",
       " 13      SM엔터, 주주환원정책 확대 개편 \"최소 당기순익 30% 이상 환원\"   머니투데이  2023.02.27 11:20\n",
       " 14          에스엠 주식 '공개매수 청약'...24일 거래된 주식까지 유효  파이낸셜뉴스  2023.02.27 08:40,\n",
       "                                             제목    정보제공                날짜\n",
       " 0                ‘한류 첨병’ 에스엠은 어쩌다 진흙탕 싸움에 휘말렸나  이코노미스트  2023.02.27 06:01\n",
       " 1          SM엔터, 변동성 언제까지?… 손보·이차전지 최선호株도 '주목'   머니투데이  2023.02.26 15:40\n",
       " 2   “배당 확대?이사 해임” 등 3월 주총 앞두고 주주제안 봇물…에스엠 등...    조선비즈  2023.02.26 10:01\n",
       " 3                \"에스엠 사태도 핵심은…'주주의 비례적 이익' 도입\"    비즈워치  2023.02.25 17:22\n",
       " 4           [박진감]에스엠 경영권 분쟁 새 쟁점.. '카카오 우선인수권'    비즈워치  2023.02.25 17:01\n",
       " 5           에스엠-하이브, 카카오 두고 연이은 ‘갑론을박’…법적공방 예고  이코노미스트  2023.02.24 17:21\n",
       " 6                     에스엠, 카카오와 계약 논란 속 4%대 약세    이데일리  2023.02.24 16:22\n",
       " 8           에스엠 경영권 분쟁 '점입가경'...카카오에 종속 or 수평?    비즈워치  2023.02.24 14:09\n",
       " 9                 CJ ENM \"SM엔터 인수 안 하기로 최종 결정\"    이데일리  2023.02.24 15:54\n",
       " 10         에스엠, 경영권 분기점 '신주발행 가처분'.. 쟁점 한눈에 보기    비즈워치  2023.02.24 11:01\n",
       " 11                [특징주]에스엠, 공개매수 마감 앞두고 2%대 약세    이데일리  2023.02.24 09:17,\n",
       "                                             제목    정보제공                날짜\n",
       " 0             [시그널] 에스엠, 자사주 매입 강행…\"실탄 아직 남았다\"    서울경제  2023.02.24 08:57\n",
       " 1             에스엠 주주는 필독…공개매수는 어떻게 하나요? [주경야독]    매일경제  2023.02.24 07:01\n",
       " 2   SM엔터 \"카카오에 음원 유통 넘긴다\"…하이브 \"주주 이익 침해, 법적...    한국경제  2023.02.23 17:31\n",
       " 3               코스피 상승, 에스엠 ‘자사주 매입 소식’에 4%대 ↑  이코노미스트  2023.02.23 16:01\n",
       " 4             치닫는 갈등…하이브 “SM엔터 자기주식취득 즉각 중지하라”  이코노미스트  2023.02.23 14:22\n",
       " 5            [특징주] 에스엠, 자사주 매입 소식에 4거래일 만에 상승세    서울경제  2023.02.23 09:20\n",
       " 7           [시그널] SM엔터테인먼트, 100억 규모 자사주 매입 본격화    서울경제  2023.02.23 08:28\n",
       " 8   ‘분쟁 핵심’ 카카오, SM엔터 투자 추진한 배재현 총괄 사내이사 후보...  이코노미스트  2023.02.22 20:02\n",
       " 9                       에스엠, 1주당 1200원 현금배당 결정    이데일리  2023.02.22 19:31\n",
       " 10        에스엠, 내달 31일 주총…\"하이브의 적대적 M&A 단호히 반대\"    한국경제  2023.02.22 19:28\n",
       " 11                        에스엠, 최대주주 이수만→하이브 변경    이데일리  2023.02.22 19:26\n",
       " 13                하이브, 에스엠 인수대금 조기입금...1대주주 등극    비즈워치  2023.02.22 14:31\n",
       " 14   하이브, 에스엠 지분 14.8% 확보…1대주주로 올라서 [주목 e공시...    한국경제  2023.02.22 11:55,\n",
       "                                     제목    정보제공                날짜\n",
       " 0                하이브, 한박자 빠르게 SM엔터 품었다    한국경제  2023.02.22 19:22\n",
       " 1    SM엔터 측 이사진 11인 명단 공개…3월 31일 주총 개최  이코노미스트  2023.02.22 18:43\n",
       " 2      에스엠 \"카카오 협력, 특정 누군가의 이익 위해서 아냐\"    한국경제  2023.02.22 17:40\n",
       " 4         하이브엔 있고 에스엠엔 없었다…‘소통’이 가른 주가  이코노미스트  2023.02.22 15:47\n",
       " 5   [마켓인]에스엠 경영권 분쟁…이면에는 '에스(서울대)파' 대전    이데일리  2023.02.22 17:04\n",
       " 6        ‘상장설’ 휩싸인 카카오엔터…에스엠 인수전 변수 될까  이코노미스트  2023.02.22 16:54\n",
       " 7    최대주주 바뀐 에스엠 2% '하락'…공개매수가 12만원 사수    한국경제  2023.02.22 15:57\n",
       " 9            [특징주] 최대주주 바뀐 에스엠, 2%대 하락    이데일리  2023.02.22 15:21\n",
       " 10   에스엠 신주발행 가처분 첫 심리…'위법' vs '정당' 팽팽    비즈워치  2023.02.22 15:42\n",
       " 11   '脫이수만' SM엔터의 운명…'캐스팅보트' 쥔 이들에 달렸다   머니투데이  2023.02.22 15:17\n",
       " 12   \"카카오 협력계획은…\" 에스엠, 오늘 유튜브 기업설명회 개최    이데일리  2023.02.22 15:01\n",
       " 13  ‘인수전’ 이슈에 시총 들썩…카카오 부진, 오스템·에스엠 약진   아시아경제  2023.02.22 14:29,\n",
       "                                             제목    정보제공                날짜\n",
       " 0   에스엠 못 잡으면 카카오 다음 타깃은 JYP?…1000억 베팅한 외인,...    조선비즈  2023.02.22 06:01\n",
       " 1              경영권 분쟁 속 호실적 냈지만…에스엠 '엇갈린 투자의견'    이데일리  2023.02.22 05:46\n",
       " 2          에스엠 세계관부터 사업 다각화까지 면밀 분석…영업익 성장치 제시   머니투데이  2023.02.22 05:00\n",
       " 3         하이브 \"SM엔터 인수? 적대적 M&A 아냐…카카오와 협력 가능\"   머니투데이  2023.02.21 18:45\n",
       " 5    박지원 하이브 CEO \"에스엠 인수, 적대적 M&A 아냐...SM3....  파이낸셜뉴스  2023.02.21 17:27\n",
       " 6           에스엠 주가에 쏠리는 눈...증권사는 15만원까지 목표가 상향  파이낸셜뉴스  2023.02.21 17:12\n",
       " 7   SM엔터 \"경영효율화로 2025년 매출 1.2조\" VS 하이브 \"카카오...    서울경제  2023.02.21 18:09\n",
       " 8                    \"분쟁에 가린 호실적\"…SM엔터 목표가 줄상향    한국경제  2023.02.21 17:35\n",
       " 9               분쟁 속 호실적 낸 에스엠…매수 vs 관망 엇갈린 전망    비즈워치  2023.02.21 17:31\n",
       " 10          '경영권 분쟁'에도 SM엔터 목표주가 오르는 이유 [이코노Y]  이코노미스트  2023.02.21 16:26\n",
       " 11         \"소액주주 지분 모아주세요\"…SM엔터 의결권 위임 대행도 큰 장    한국경제  2023.02.21 16:09\n",
       " 12                'SM엔터' 사태로 주목받는 ‘공개매수’ 집중 해부    서울경제  2023.02.21 13:57,\n",
       "                                             제목    정보제공                날짜\n",
       " 0   \"이래도 헐값에 팔래?\"…'영업익 4000억' 전망 띄운 에스엠 [김익...    한국경제  2023.02.21 11:02\n",
       " 1   에스엠 \"SM 3.0 통해 25년 매출액 1.2조원, 영업익4300억원...   머니투데이  2023.02.21 10:54\n",
       " 2              갈림길 선 에스엠 공개매수...하이브-카카오 다음 행보는    비즈워치  2023.02.21 10:49\n",
       " 3            얼라인이 찍은 ‘제2의 SM엔터’는?…SBS 이틀 연속 강세    매일경제  2023.02.21 09:58\n",
       " 4   [공시] 에스엠 \"올해 영업익 1990억…2025년 매출 1.2조 예상...  파이낸셜뉴스  2023.02.21 09:36\n",
       " 6          SM엔터 \"올해 영업익 1990억…25년 매출 1조 돌파 예상\"   아시아경제  2023.02.21 09:09\n",
       " 7           “에스엠, 신규매수보다 보유·차익실현이 합리적”...투자의견↓    매일경제  2023.02.21 09:00\n",
       " 9            \"에스엠, 신규매수 매력은 글쎄…목표가↑·투자의견↓\"-현대차    한국경제  2023.02.21 08:34\n",
       " 10                SM엔터, 추가상승 여력 없다…차익실현 해야-현대차   머니투데이  2023.02.21 08:30\n",
       " 11  대신증권 “에스엠 주가, 아직도 저평가...목표가, 74% 오른 15만...    조선비즈  2023.02.21 08:59\n",
       " 13             [클릭 e종목]\"에스엠, 본업 가치만으로는 저평가 상태\"   아시아경제  2023.02.21 08:52\n",
       " 14   SM엔터, 현 주가는 저평가 상태…목표가, 74% 뛴 '15만원' -...   머니투데이  2023.02.21 07:34\n",
       " 15              에스엠, 본업 펀더멘탈 가치 저평가 상태…목표가↑-대신    이데일리  2023.02.21 07:33\n",
       " 16         \"에스엠, 본업 펀더멘탈 가치만으로 저평가 상태…목표가↑\"-대신    한국경제  2023.02.21 07:32\n",
       " 17         에스엠, ‘경영권 분쟁’ 주가 긍정적이나 투자의견 ‘홀드’-한화    이데일리  2023.02.21 08:30\n",
       " 18            에스엠, 주총까지 많은 변수..목표주가 12만→13만-하나  파이낸셜뉴스  2023.02.21 08:22\n",
       " 20       에스엠, 주총 전까지 변수 많다…목표가는 12만→13만원↑-하나증권   머니투데이  2023.02.21 07:17\n",
       " 21          SM엔터, 주총 전까지 변수 많지만 긍정적…목표주가 상향-유진   머니투데이  2023.02.21 07:58,\n",
       "                                             제목    정보제공                날짜\n",
       " 0       SM엔터, 경영 정상화 中…목표가, 19% 오른 12.5만 -메리츠證   머니투데이  2023.02.21 07:52\n",
       " 2              에스엠, 경영권 분쟁에도 견고한 펀더멘털…목표가↑-메리츠    이데일리  2023.02.21 07:41\n",
       " 3         에스엠·오스템임플란트…그들 나타나면 '주가 폭등', 부작용 우려도   머니투데이  2023.02.21 05:30\n",
       " 4                         SM엔터 경영권 싸움…M&A 승자는?    한국경제  2023.02.21 00:29\n",
       " 5             호실적도, 호소도 안 통했다…'주주환원' 빠진 에스엠 IR    이데일리  2023.02.20 18:34\n",
       " 7         에스엠 \"하이브 피인수시 기업가치 하락…가장 큰 피해자는 K팝팬\"   머니투데이  2023.02.20 11:27\n",
       " 8    에스엠, 하이브 공개매수에 반기…\"주주가치 크게 훼손\" [주목 e공시...    한국경제  2023.02.20 09:43\n",
       " 9   [데이터로 보는 증시]에스엠·HLB, 기관·외국인 코스닥 순매수 1위(...    서울경제  2023.02.20 18:24\n",
       " 10                      깜짝실적 발표에도 SM엔터 6.3% 급락    매일경제  2023.02.20 17:44\n",
       " 12      13만원도 넘긴 에스엠…카카오 공개매수 역공 나서나 [이코노 株인공]  이코노미스트  2023.02.20 07:01\n",
       " 13          하이브 \"공개매수가 안 올려\"…SM엔터, 깜짝 실적에도 6%↓    한국경제  2023.02.20 17:28\n",
       " 14             [커버스토리] SM엔터 경영권 싸움…M&A 경쟁 승자는?    한국경제  2023.02.20 16:16\n",
       " 15           \"5000만원 영끌해서 에스엠 샀는데…\" 대학생 개미의 눈물    한국경제  2023.02.20 16:09\n",
       " 17            하이브 “공개매수가 인상 없다” 입장에 에스엠 5%대 급락    매일경제  2023.02.20 10:43\n",
       " 18            하이브 \"공개매수가 인상 없다\"…에스엠 13만원대 '붕괴'    한국경제  2023.02.20 10:21\n",
       " 19      [특징주] 에스엠 하락하고 하이브 올랐다…'인수전쟁’에 주가도 급등락    조선비즈  2023.02.20 09:56\n",
       " 20  [데이터로 보는 증시] 에스엠 ·HLB, 기관·외국인 코스닥 순매수 1...    서울경제  2023.02.20 15:46,\n",
       "                                             제목    정보제공                날짜\n",
       " 0                  SM엔터, 4분기 수익성↑…\"하이브 M&A 반대\"   아시아경제  2023.02.20 15:24\n",
       " 2              에스엠, 작년 4분기 영업익 252억…전년비 70% 증가    한국경제  2023.02.20 14:13\n",
       " 3              에스엠, 4분기 영업익 전년比 70% 증가…어닝서프라이즈    매일경제  2023.02.20 14:07\n",
       " 4           에스엠, 음반·공연 매출 급증에… 4Q 영업익 전년비 70%↑    이데일리  2023.02.20 14:01\n",
       " 5         에스엠, 작년 영업익 935억원…전년비 38.5%↑[주목 e공시]    한국경제  2023.02.20 15:01\n",
       " 6                 에스엠, 작년 영업이익 935억…전년比 38.5%↑    이데일리  2023.02.20 13:55\n",
       " 8                에스엠, 지난해 영업익 935억…전년비 38.5% ↑   헤럴드경제  2023.02.20 13:52\n",
       " 9                 [공시줍줍]하이브 공개매수에 '반대' 공시한 에스엠    비즈워치  2023.02.20 12:01\n",
       " 10                   코스닥, 외국인 매수에 상승세…에스엠 5%대↓    이데일리  2023.02.20 10:42\n",
       " 11            공시에 유튜브까지 동원…에스엠 “하이브 M&A 반대” 읍소  이코노미스트  2023.02.20 10:27\n",
       " 12                 [특징주]하이브 공개매수가 불변…에스엠 5% 급락   아시아경제  2023.02.20 10:21\n",
       " 13  하이브-에스엠 대형 엔터사 결합심사 임박… 공정위는 ‘팬덤 시장’ 열공...    조선비즈  2023.02.20 10:01\n",
       " 14         에스엠, 하이브 공개매수에 \"주주 이익 훼손 심각…반대”(상보)    이데일리  2023.02.20 09:18\n",
       " 16             에스엠, 하이브 공개매수에 \"주주 이익 훼손 심각…반대”    이데일리  2023.02.20 09:06\n",
       " 17                     [특징주] 에스엠, IR 앞두고 3% 하락    이데일리  2023.02.20 09:12]"
      ]
     },
     "execution_count": 51,
     "metadata": {},
     "output_type": "execute_result"
    }
   ],
   "source": [
    "# 에스엠 코드\n",
    "item_code = \"041510\"\n",
    "item_name = \"에스엠\"\n",
    "news_list"
   ]
  },
  {
   "cell_type": "code",
   "execution_count": 52,
   "id": "d858f654",
   "metadata": {},
   "outputs": [
    {
     "data": {
      "text/html": [
       "<div>\n",
       "<style scoped>\n",
       "    .dataframe tbody tr th:only-of-type {\n",
       "        vertical-align: middle;\n",
       "    }\n",
       "\n",
       "    .dataframe tbody tr th {\n",
       "        vertical-align: top;\n",
       "    }\n",
       "\n",
       "    .dataframe thead th {\n",
       "        text-align: right;\n",
       "    }\n",
       "</style>\n",
       "<table border=\"1\" class=\"dataframe\">\n",
       "  <thead>\n",
       "    <tr style=\"text-align: right;\">\n",
       "      <th></th>\n",
       "      <th>제목</th>\n",
       "      <th>정보제공</th>\n",
       "      <th>날짜</th>\n",
       "    </tr>\n",
       "  </thead>\n",
       "  <tbody>\n",
       "    <tr>\n",
       "      <th>146</th>\n",
       "      <td>[특징주]하이브 공개매수가 불변…에스엠 5% 급락</td>\n",
       "      <td>아시아경제</td>\n",
       "      <td>2023.02.20 10:21</td>\n",
       "    </tr>\n",
       "    <tr>\n",
       "      <th>147</th>\n",
       "      <td>하이브-에스엠 대형 엔터사 결합심사 임박… 공정위는 ‘팬덤 시장’ 열공...</td>\n",
       "      <td>조선비즈</td>\n",
       "      <td>2023.02.20 10:01</td>\n",
       "    </tr>\n",
       "    <tr>\n",
       "      <th>148</th>\n",
       "      <td>에스엠, 하이브 공개매수에 \"주주 이익 훼손 심각…반대”(상보)</td>\n",
       "      <td>이데일리</td>\n",
       "      <td>2023.02.20 09:18</td>\n",
       "    </tr>\n",
       "    <tr>\n",
       "      <th>149</th>\n",
       "      <td>에스엠, 하이브 공개매수에 \"주주 이익 훼손 심각…반대”</td>\n",
       "      <td>이데일리</td>\n",
       "      <td>2023.02.20 09:06</td>\n",
       "    </tr>\n",
       "    <tr>\n",
       "      <th>150</th>\n",
       "      <td>[특징주] 에스엠, IR 앞두고 3% 하락</td>\n",
       "      <td>이데일리</td>\n",
       "      <td>2023.02.20 09:12</td>\n",
       "    </tr>\n",
       "  </tbody>\n",
       "</table>\n",
       "</div>"
      ],
      "text/plain": [
       "                                             제목   정보제공                날짜\n",
       "146                 [특징주]하이브 공개매수가 불변…에스엠 5% 급락  아시아경제  2023.02.20 10:21\n",
       "147  하이브-에스엠 대형 엔터사 결합심사 임박… 공정위는 ‘팬덤 시장’ 열공...   조선비즈  2023.02.20 10:01\n",
       "148         에스엠, 하이브 공개매수에 \"주주 이익 훼손 심각…반대”(상보)   이데일리  2023.02.20 09:18\n",
       "149             에스엠, 하이브 공개매수에 \"주주 이익 훼손 심각…반대”   이데일리  2023.02.20 09:06\n",
       "150                     [특징주] 에스엠, IR 앞두고 3% 하락   이데일리  2023.02.20 09:12"
      ]
     },
     "execution_count": 52,
     "metadata": {},
     "output_type": "execute_result"
    }
   ],
   "source": [
    "# new_list 라는 변수 안에 들어있는 데이터를\n",
    "# pandas 활용하여 하나의 데이터프레임으로 만들기\n",
    "\n",
    "df_news = pd.concat(news_list)\n",
    "df_news = df_news.reset_index(drop=True)\n",
    "df_news.tail()"
   ]
  },
  {
   "cell_type": "code",
   "execution_count": 54,
   "id": "daee65d0",
   "metadata": {},
   "outputs": [
    {
     "data": {
      "text/plain": [
       "'news_041510_에스엠.csv'"
      ]
     },
     "execution_count": 54,
     "metadata": {},
     "output_type": "execute_result"
    }
   ],
   "source": [
    "#파일 저장하기\n",
    "file_name = f\"news_{item_code}_{item_name}.csv\"\n",
    "file_name"
   ]
  },
  {
   "cell_type": "code",
   "execution_count": 55,
   "id": "a76349c1",
   "metadata": {},
   "outputs": [],
   "source": [
    "# \"데이터프레임이름\".to_csv  \n",
    "# 이 이름으로 이 형식으로 저장하겠다\n",
    "df_news.to_csv(file_name, index=False)"
   ]
  },
  {
   "cell_type": "code",
   "execution_count": 56,
   "id": "1ef5dde8",
   "metadata": {},
   "outputs": [
    {
     "data": {
      "text/html": [
       "<div>\n",
       "<style scoped>\n",
       "    .dataframe tbody tr th:only-of-type {\n",
       "        vertical-align: middle;\n",
       "    }\n",
       "\n",
       "    .dataframe tbody tr th {\n",
       "        vertical-align: top;\n",
       "    }\n",
       "\n",
       "    .dataframe thead th {\n",
       "        text-align: right;\n",
       "    }\n",
       "</style>\n",
       "<table border=\"1\" class=\"dataframe\">\n",
       "  <thead>\n",
       "    <tr style=\"text-align: right;\">\n",
       "      <th></th>\n",
       "      <th>제목</th>\n",
       "      <th>정보제공</th>\n",
       "      <th>날짜</th>\n",
       "    </tr>\n",
       "  </thead>\n",
       "  <tbody>\n",
       "    <tr>\n",
       "      <th>0</th>\n",
       "      <td>이복현 금감원장 “SM엔터 시세조종 의혹 무관용으로 엄단”</td>\n",
       "      <td>매일경제</td>\n",
       "      <td>2023.03.02 16:26</td>\n",
       "    </tr>\n",
       "    <tr>\n",
       "      <th>1</th>\n",
       "      <td>금감원장 “에스엠 시세조정 의혹, 위법 확인되면 무관용으로 책임 물을 ...</td>\n",
       "      <td>조선비즈</td>\n",
       "      <td>2023.03.02 15:49</td>\n",
       "    </tr>\n",
       "    <tr>\n",
       "      <th>2</th>\n",
       "      <td>조현준 회장의 효성 계열사, SM엔터 지분 하이브에 매각</td>\n",
       "      <td>비즈워치</td>\n",
       "      <td>2023.03.02 15:48</td>\n",
       "    </tr>\n",
       "    <tr>\n",
       "      <th>3</th>\n",
       "      <td>[데이터로 보는 증시]에스엠·성일하이텍, 기관·외국인 코스닥 순매수 1...</td>\n",
       "      <td>서울경제</td>\n",
       "      <td>2023.03.02 15:44</td>\n",
       "    </tr>\n",
       "    <tr>\n",
       "      <th>4</th>\n",
       "      <td>이제 카카오도 나설까…하이브 공개매수 마감에도 에스엠 강세</td>\n",
       "      <td>매일경제</td>\n",
       "      <td>2023.03.02 12:06</td>\n",
       "    </tr>\n",
       "    <tr>\n",
       "      <th>...</th>\n",
       "      <td>...</td>\n",
       "      <td>...</td>\n",
       "      <td>...</td>\n",
       "    </tr>\n",
       "    <tr>\n",
       "      <th>146</th>\n",
       "      <td>[특징주]하이브 공개매수가 불변…에스엠 5% 급락</td>\n",
       "      <td>아시아경제</td>\n",
       "      <td>2023.02.20 10:21</td>\n",
       "    </tr>\n",
       "    <tr>\n",
       "      <th>147</th>\n",
       "      <td>하이브-에스엠 대형 엔터사 결합심사 임박… 공정위는 ‘팬덤 시장’ 열공...</td>\n",
       "      <td>조선비즈</td>\n",
       "      <td>2023.02.20 10:01</td>\n",
       "    </tr>\n",
       "    <tr>\n",
       "      <th>148</th>\n",
       "      <td>에스엠, 하이브 공개매수에 \"주주 이익 훼손 심각…반대”(상보)</td>\n",
       "      <td>이데일리</td>\n",
       "      <td>2023.02.20 09:18</td>\n",
       "    </tr>\n",
       "    <tr>\n",
       "      <th>149</th>\n",
       "      <td>에스엠, 하이브 공개매수에 \"주주 이익 훼손 심각…반대”</td>\n",
       "      <td>이데일리</td>\n",
       "      <td>2023.02.20 09:06</td>\n",
       "    </tr>\n",
       "    <tr>\n",
       "      <th>150</th>\n",
       "      <td>[특징주] 에스엠, IR 앞두고 3% 하락</td>\n",
       "      <td>이데일리</td>\n",
       "      <td>2023.02.20 09:12</td>\n",
       "    </tr>\n",
       "  </tbody>\n",
       "</table>\n",
       "<p>151 rows × 3 columns</p>\n",
       "</div>"
      ],
      "text/plain": [
       "                                             제목   정보제공                날짜\n",
       "0              이복현 금감원장 “SM엔터 시세조종 의혹 무관용으로 엄단”   매일경제  2023.03.02 16:26\n",
       "1    금감원장 “에스엠 시세조정 의혹, 위법 확인되면 무관용으로 책임 물을 ...   조선비즈  2023.03.02 15:49\n",
       "2               조현준 회장의 효성 계열사, SM엔터 지분 하이브에 매각   비즈워치  2023.03.02 15:48\n",
       "3    [데이터로 보는 증시]에스엠·성일하이텍, 기관·외국인 코스닥 순매수 1...   서울경제  2023.03.02 15:44\n",
       "4              이제 카카오도 나설까…하이브 공개매수 마감에도 에스엠 강세   매일경제  2023.03.02 12:06\n",
       "..                                          ...    ...               ...\n",
       "146                 [특징주]하이브 공개매수가 불변…에스엠 5% 급락  아시아경제  2023.02.20 10:21\n",
       "147  하이브-에스엠 대형 엔터사 결합심사 임박… 공정위는 ‘팬덤 시장’ 열공...   조선비즈  2023.02.20 10:01\n",
       "148         에스엠, 하이브 공개매수에 \"주주 이익 훼손 심각…반대”(상보)   이데일리  2023.02.20 09:18\n",
       "149             에스엠, 하이브 공개매수에 \"주주 이익 훼손 심각…반대”   이데일리  2023.02.20 09:06\n",
       "150                     [특징주] 에스엠, IR 앞두고 3% 하락   이데일리  2023.02.20 09:12\n",
       "\n",
       "[151 rows x 3 columns]"
      ]
     },
     "execution_count": 56,
     "metadata": {},
     "output_type": "execute_result"
    }
   ],
   "source": [
    "# 읽어오기\n",
    "# 판다스를 활용해 특정 형식으로 읽어오겠다\n",
    "pd.read_csv(file_name)"
   ]
  },
  {
   "cell_type": "code",
   "execution_count": null,
   "id": "9af972de",
   "metadata": {},
   "outputs": [],
   "source": []
  },
  {
   "cell_type": "code",
   "execution_count": null,
   "id": "b0fd3fb3",
   "metadata": {},
   "outputs": [],
   "source": []
  },
  {
   "cell_type": "code",
   "execution_count": null,
   "id": "94bbf10f",
   "metadata": {},
   "outputs": [],
   "source": []
  },
  {
   "cell_type": "code",
   "execution_count": null,
   "id": "2f9eb449",
   "metadata": {},
   "outputs": [],
   "source": []
  },
  {
   "cell_type": "code",
   "execution_count": null,
   "id": "899f4c07",
   "metadata": {},
   "outputs": [],
   "source": []
  },
  {
   "cell_type": "code",
   "execution_count": null,
   "id": "87b98c9d",
   "metadata": {},
   "outputs": [],
   "source": []
  },
  {
   "cell_type": "code",
   "execution_count": null,
   "id": "bd2fc574",
   "metadata": {},
   "outputs": [],
   "source": []
  },
  {
   "cell_type": "code",
   "execution_count": null,
   "id": "83509ef3",
   "metadata": {},
   "outputs": [],
   "source": []
  },
  {
   "cell_type": "code",
   "execution_count": null,
   "id": "2fe74feb",
   "metadata": {},
   "outputs": [],
   "source": []
  },
  {
   "cell_type": "code",
   "execution_count": null,
   "id": "33c64895",
   "metadata": {},
   "outputs": [],
   "source": []
  },
  {
   "cell_type": "code",
   "execution_count": null,
   "id": "79e701ca",
   "metadata": {},
   "outputs": [],
   "source": []
  }
 ],
 "metadata": {
  "kernelspec": {
   "display_name": "Python 3 (ipykernel)",
   "language": "python",
   "name": "python3"
  },
  "language_info": {
   "codemirror_mode": {
    "name": "ipython",
    "version": 3
   },
   "file_extension": ".py",
   "mimetype": "text/x-python",
   "name": "python",
   "nbconvert_exporter": "python",
   "pygments_lexer": "ipython3",
   "version": "3.9.13"
  },
  "toc": {
   "base_numbering": 1,
   "nav_menu": {},
   "number_sections": true,
   "sideBar": true,
   "skip_h1_title": false,
   "title_cell": "Table of Contents",
   "title_sidebar": "Contents",
   "toc_cell": false,
   "toc_position": {},
   "toc_section_display": true,
   "toc_window_display": false
  },
  "varInspector": {
   "cols": {
    "lenName": 16,
    "lenType": 16,
    "lenVar": 40
   },
   "kernels_config": {
    "python": {
     "delete_cmd_postfix": "",
     "delete_cmd_prefix": "del ",
     "library": "var_list.py",
     "varRefreshCmd": "print(var_dic_list())"
    },
    "r": {
     "delete_cmd_postfix": ") ",
     "delete_cmd_prefix": "rm(",
     "library": "var_list.r",
     "varRefreshCmd": "cat(var_dic_list()) "
    }
   },
   "types_to_exclude": [
    "module",
    "function",
    "builtin_function_or_method",
    "instance",
    "_Feature"
   ],
   "window_display": false
  }
 },
 "nbformat": 4,
 "nbformat_minor": 5 
}
